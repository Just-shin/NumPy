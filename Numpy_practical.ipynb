{
 "cells": [
  {
   "cell_type": "markdown",
   "metadata": {},
   "source": [
    "### 1. Create a 3x3 NumPy array with random integers between 1 and 100. Then, interchange its rows and columns.\n",
    "\n",
    "Answer ->"
   ]
  },
  {
   "cell_type": "code",
   "execution_count": 38,
   "metadata": {},
   "outputs": [
    {
     "name": "stdout",
     "output_type": "stream",
     "text": [
      "Original Array:\n",
      "[[13 36 45]\n",
      " [47 88 74]\n",
      " [51 53 47]]\n",
      "\n",
      "Transposed Array:\n",
      "[[13 47 51]\n",
      " [36 88 53]\n",
      " [45 74 47]]\n"
     ]
    }
   ],
   "source": [
    "import numpy as np\n",
    "\n",
    "# Creating a 3x3 array with random integers between 1 and 100\n",
    "arr = np.random.randint(1, 101, size=(3, 3))\n",
    "print(\"Original Array:\")\n",
    "print(arr)\n",
    "\n",
    "# Interchanging rows and columns\n",
    "transposed_arr = arr.T\n",
    "print(\"\\nTransposed Array:\")\n",
    "print(transposed_arr)"
   ]
  },
  {
   "cell_type": "markdown",
   "metadata": {},
   "source": [
    "### 2. Generate a 1D NumPy array with 10 elements. Reshape it into a 2x5 array, then into a 5x2 array.\n",
    "\n",
    "Answer -"
   ]
  },
  {
   "cell_type": "code",
   "execution_count": 3,
   "metadata": {},
   "outputs": [
    {
     "name": "stdout",
     "output_type": "stream",
     "text": [
      "Original 1D Array:\n",
      "[0 1 2 3 4 5 6 7 8 9]\n",
      "\n",
      "Reshaped to 2x5 Array:\n",
      "[[0 1 2 3 4]\n",
      " [5 6 7 8 9]]\n",
      "\n",
      "Reshaped to 5x2 Array:\n",
      "[[0 1]\n",
      " [2 3]\n",
      " [4 5]\n",
      " [6 7]\n",
      " [8 9]]\n"
     ]
    }
   ],
   "source": [
    "import numpy as np\n",
    "\n",
    "# 1D array with 10 elements\n",
    "arr = np.arange(10)\n",
    "print(\"Original 1D Array:\")\n",
    "print(arr)\n",
    "\n",
    "# Reshaping the array into a 2x5 array\n",
    "arr_2x5 = arr.reshape(2, 5)\n",
    "print(\"\\nReshaped to 2x5 Array:\")\n",
    "print(arr_2x5)\n",
    "\n",
    "# Reshaping the 2x5 array into a 5x2 array\n",
    "arr_5x2 = arr_2x5.reshape(5, 2)\n",
    "print(\"\\nReshaped to 5x2 Array:\")\n",
    "print(arr_5x2)\n"
   ]
  },
  {
   "cell_type": "markdown",
   "metadata": {},
   "source": [
    "### 3. Create a 4x4 NumPy array with random float values. Add a border of zeroes around it, resulting in a 6x6 array."
   ]
  },
  {
   "cell_type": "code",
   "execution_count": 4,
   "metadata": {},
   "outputs": [
    {
     "name": "stdout",
     "output_type": "stream",
     "text": [
      "Original 4x4 Array:\n",
      "[[0.48632726 0.06712251 0.03950201 0.69318997]\n",
      " [0.81989037 0.63568431 0.49643752 0.03812729]\n",
      " [0.76249987 0.92571823 0.92165107 0.38428213]\n",
      " [0.94737401 0.67781624 0.49161027 0.18378817]]\n",
      "\n",
      "Array with Border of Zeroes (6x6):\n",
      "[[0.         0.         0.         0.         0.         0.        ]\n",
      " [0.         0.48632726 0.06712251 0.03950201 0.69318997 0.        ]\n",
      " [0.         0.81989037 0.63568431 0.49643752 0.03812729 0.        ]\n",
      " [0.         0.76249987 0.92571823 0.92165107 0.38428213 0.        ]\n",
      " [0.         0.94737401 0.67781624 0.49161027 0.18378817 0.        ]\n",
      " [0.         0.         0.         0.         0.         0.        ]]\n"
     ]
    }
   ],
   "source": [
    "import numpy as np\n",
    "\n",
    "# 4x4 array with random float values\n",
    "arr = np.random.rand(4, 4)\n",
    "print(\"Original 4x4 Array:\")\n",
    "print(arr)\n",
    "\n",
    "# Adding border of zeroes around the array\n",
    "arr_with_border = np.pad(arr, pad_width=1, mode='constant', constant_values=0)\n",
    "print(\"\\nArray with Border of Zeroes (6x6):\")\n",
    "print(arr_with_border)\n"
   ]
  },
  {
   "cell_type": "markdown",
   "metadata": {},
   "source": [
    "### 4. Using NumPy, create an array of integers from 10 to 60 with a step of 5.\n",
    "\n",
    "Answer -"
   ]
  },
  {
   "cell_type": "code",
   "execution_count": 5,
   "metadata": {},
   "outputs": [
    {
     "name": "stdout",
     "output_type": "stream",
     "text": [
      "[10 15 20 25 30 35 40 45 50 55 60]\n"
     ]
    }
   ],
   "source": [
    "import numpy as np\n",
    "\n",
    "''' np.arange(start, stop, step) generates values starting from start up to\n",
    "(but not including) stop, with a specified step.\n",
    "In this case, np.arange(10, 65, 5) creates an array starting at 10,\n",
    "ending before 65, with increments of 5.'''\n",
    "\n",
    "arr = np.arange(10, 65, 5)\n",
    "print(arr)\n"
   ]
  },
  {
   "cell_type": "markdown",
   "metadata": {},
   "source": [
    "### 5. Create a NumPy array of strings['python','numpy','pandas']. Apply different case transformations (uppercase,lowercase,title case, etc.) to each element.\n",
    "Answer -"
   ]
  },
  {
   "cell_type": "code",
   "execution_count": 8,
   "metadata": {},
   "outputs": [
    {
     "name": "stdout",
     "output_type": "stream",
     "text": [
      "Original Array:\n",
      "['python' 'numpy' 'pandas']\n",
      "\n",
      "Uppercase Array:\n",
      "['PYTHON' 'NUMPY' 'PANDAS']\n",
      "\n",
      "Lowercase Array:\n",
      "['python' 'numpy' 'pandas']\n",
      "\n",
      "Title Case Array:\n",
      "['Python' 'Numpy' 'Pandas']\n"
     ]
    }
   ],
   "source": [
    "import numpy as np\n",
    "\n",
    "# Creating a NumPy array of strings\n",
    "arr = np.array(['python', 'numpy', 'pandas'])\n",
    "print(\"Original Array:\")\n",
    "print(arr)\n",
    "\n",
    "# Converting it to uppercase\n",
    "upper_arr = np.char.upper(arr)\n",
    "print(\"\\nUppercase Array:\")\n",
    "print(upper_arr)\n",
    "\n",
    "# Converting it to lowercase\n",
    "lower_arr = np.char.lower(arr)\n",
    "print(\"\\nLowercase Array:\")\n",
    "print(lower_arr)\n",
    "\n",
    "# Converting it to title case\n",
    "title_arr = np.char.title(arr)\n",
    "print(\"\\nTitle Case Array:\")\n",
    "print(title_arr)\n"
   ]
  },
  {
   "cell_type": "code",
   "execution_count": 37,
   "metadata": {},
   "outputs": [
    {
     "name": "stdout",
     "output_type": "stream",
     "text": [
      "Original array: ['python' 'numpy' 'pandas']\n",
      "Uppercase: ['PYTHON' 'NUMPY' 'PANDAS']\n",
      "Lowercase: ['python' 'numpy' 'pandas']\n",
      "Title case: ['Python' 'Numpy' 'Pandas']\n"
     ]
    }
   ],
   "source": [
    "import numpy as np\n",
    "\n",
    "# Creating a NumPy array of strings\n",
    "array = np.array(['python', 'numpy', 'pandas'])\n",
    "\n",
    "# Applying different case transformations\n",
    "uppercase_array = np.char.upper(array)\n",
    "lowercase_array = np.char.lower(array)\n",
    "titlecase_array = np.char.capitalize(array)\n",
    "\n",
    "print(\"Original array:\", array)\n",
    "print(\"Uppercase:\", uppercase_array)\n",
    "print(\"Lowercase:\", lowercase_array)\n",
    "print(\"Title case:\", titlecase_array)"
   ]
  },
  {
   "cell_type": "markdown",
   "metadata": {},
   "source": [
    "### 6. Generate a NumPy array of words. Insert a space between each character of every word in the array.\n",
    "\n",
    "Answer -"
   ]
  },
  {
   "cell_type": "code",
   "execution_count": 11,
   "metadata": {},
   "outputs": [
    {
     "name": "stdout",
     "output_type": "stream",
     "text": [
      "Original Array:\n",
      "['python' 'numpy' 'pandas']\n",
      "\n",
      "Array with Spaces Between Characters:\n",
      "['p y t h o n' 'n u m p y' 'p a n d a s']\n"
     ]
    }
   ],
   "source": [
    "import numpy as np\n",
    "\n",
    "words = np.array(['python', 'numpy', 'pandas'])\n",
    "print(\"Original Array:\")\n",
    "print(words)\n",
    "\n",
    "# Inserting a space between each character\n",
    "spaced_words = np.char.join(' ', words)\n",
    "print(\"\\nArray with Spaces Between Characters:\")\n",
    "print(spaced_words)\n"
   ]
  },
  {
   "cell_type": "markdown",
   "metadata": {},
   "source": [
    "### 7. Create two 2D NumPy arrays and perform element-wise addition, subtraction, multiplication, and division.\n",
    "\n",
    "Answer ->"
   ]
  },
  {
   "cell_type": "code",
   "execution_count": 12,
   "metadata": {},
   "outputs": [
    {
     "name": "stdout",
     "output_type": "stream",
     "text": [
      "Array 1:\n",
      "[[1 2 3]\n",
      " [4 5 6]]\n",
      "\n",
      "Array 2:\n",
      "[[ 7  8  9]\n",
      " [10 11 12]]\n",
      "\n",
      "Element-wise Addition:\n",
      "[[ 8 10 12]\n",
      " [14 16 18]]\n",
      "\n",
      "Element-wise Subtraction:\n",
      "[[-6 -6 -6]\n",
      " [-6 -6 -6]]\n",
      "\n",
      "Element-wise Multiplication:\n",
      "[[ 7 16 27]\n",
      " [40 55 72]]\n",
      "\n",
      "Element-wise Division:\n",
      "[[0.14285714 0.25       0.33333333]\n",
      " [0.4        0.45454545 0.5       ]]\n"
     ]
    }
   ],
   "source": [
    "import numpy as np\n",
    "\n",
    "# Creating two 2D arrays\n",
    "arr1 = np.array([[1, 2, 3], [4, 5, 6]])\n",
    "arr2 = np.array([[7, 8, 9], [10, 11, 12]])\n",
    "\n",
    "print(\"Array 1:\")\n",
    "print(arr1)\n",
    "print(\"\\nArray 2:\")\n",
    "print(arr2)\n",
    "\n",
    "addition = np.add(arr1, arr2)\n",
    "print(\"\\nElement-wise Addition:\")\n",
    "print(addition)\n",
    "\n",
    "subtraction = np.subtract(arr1, arr2)\n",
    "print(\"\\nElement-wise Subtraction:\")\n",
    "print(subtraction)\n",
    "\n",
    "multiplication = np.multiply(arr1, arr2)\n",
    "print(\"\\nElement-wise Multiplication:\")\n",
    "print(multiplication)\n",
    "\n",
    "division = np.divide(arr1, arr2)\n",
    "print(\"\\nElement-wise Division:\")\n",
    "print(division)\n"
   ]
  },
  {
   "cell_type": "markdown",
   "metadata": {},
   "source": [
    "### 8. Use NumPy to create a 5x5 identity matrix, then extract its diagonal elements.\n",
    "\n",
    "Answer ->"
   ]
  },
  {
   "cell_type": "code",
   "execution_count": 14,
   "metadata": {},
   "outputs": [
    {
     "name": "stdout",
     "output_type": "stream",
     "text": [
      "5x5 Identity Matrix:\n",
      "[[1. 0. 0. 0. 0.]\n",
      " [0. 1. 0. 0. 0.]\n",
      " [0. 0. 1. 0. 0.]\n",
      " [0. 0. 0. 1. 0.]\n",
      " [0. 0. 0. 0. 1.]]\n",
      "\n",
      "Diagonal Elements:\n",
      "[1. 1. 1. 1. 1.]\n"
     ]
    }
   ],
   "source": [
    "import numpy as np\n",
    "\n",
    "\"\"\"the np.identity(5) function creates a 5x5 identity matrix, \n",
    "and the np.diag(identity_matrix)function extracts the diagonal elements,\n",
    "which are all ones\"\"\"\n",
    "\n",
    "identity_matrix = np.identity(5)\n",
    "print(\"5x5 Identity Matrix:\")\n",
    "print(identity_matrix)\n",
    "\n",
    "# Extracting the diagonal elements\n",
    "diagonal_elements = np.diag(identity_matrix)\n",
    "print(\"\\nDiagonal Elements:\")\n",
    "print(diagonal_elements)\n"
   ]
  },
  {
   "cell_type": "markdown",
   "metadata": {},
   "source": [
    "### 9. Generate a NumPy array of 100 random integers between 0 and 1000. Find and display all prime numbers in this array.\n",
    "\n",
    "Answer ->"
   ]
  },
  {
   "cell_type": "code",
   "execution_count": 30,
   "metadata": {},
   "outputs": [
    {
     "name": "stdout",
     "output_type": "stream",
     "text": [
      "Random Integers Array:\n",
      "[ 146  481  575  822  474   59  354  422  622  916  253  830  253   58\n",
      "    1  160  190  749  793  135  996  226  577  340  668  946  420  842\n",
      "  642   55  198  583  775  690  381  916  383  271  428  302  535  287\n",
      "  780  530  808  523   34  432  789  996  367  561  487  381  738  706\n",
      "  649  303  209  778  107  854  676  146  513  744  626  350  527  678\n",
      "  159  427  460  983  806  957  960  170  399  262  531  527  947  963\n",
      "  412  700  193  112  872  983  419  747  900  693  945 1000  913  740\n",
      "  343  554]\n",
      "\n",
      "Prime Numbers in the Array:\n",
      "[ 59 577 383 271 523 367 487 107 983 947 193 983 419]\n"
     ]
    }
   ],
   "source": [
    "import numpy as np\n",
    "\n",
    "\n",
    "random_integers = np.random.randint(0, 1001, size=100)\n",
    "print(\"Random Integers Array:\")\n",
    "print(random_integers)\n",
    "\n",
    "#a function to check if a number is prime\n",
    "def is_prime(n):\n",
    "    if n <= 1:\n",
    "        return False\n",
    "    for i in range(2, int(np.sqrt(n)) + 1):\n",
    "        if n % i == 0:\n",
    "            return False\n",
    "    return True\n",
    "\n",
    "prime_numbers = np.array([num for num in random_integers if is_prime(num)])\n",
    "print(\"\\nPrime Numbers in the Array:\")\n",
    "print(prime_numbers)\n"
   ]
  },
  {
   "cell_type": "markdown",
   "metadata": {},
   "source": [
    "### 10. Create a NumPy array representing daily temperature for a month. Calculate and display the weekly averages. \n",
    "\n",
    "Answer ->"
   ]
  },
  {
   "cell_type": "code",
   "execution_count": 36,
   "metadata": {},
   "outputs": [
    {
     "name": "stdout",
     "output_type": "stream",
     "text": [
      "Daily Temperatures for a Month:\n",
      "[28 20 29 20 23 20 23 32 32 20 29 21 22 32 30 28 23 22 30 30 21 31 29 29\n",
      " 27 21 24 30 25 32]\n",
      "\n",
      "Weekly Averages:\n",
      "[23.28571429 26.85714286 26.28571429 27.28571429]\n"
     ]
    }
   ],
   "source": [
    "import numpy as np\n",
    "\n",
    "\"\"\" the daily temperatures are generated randomly between 20°C and 35°C.\n",
    "The array is then reshaped to represent 4 weeks and the average \n",
    "temperature for each week is calculated and displayed\"\"\"\n",
    "\n",
    "daily_temperatures = np.random.randint(20, 36, size=30)\n",
    "print(\"Daily Temperatures for a Month:\")\n",
    "print(daily_temperatures)\n",
    "\n",
    "# Reshaping the array to have 4 weeks (each with 7 days)\n",
    "weekly_temperatures = daily_temperatures[:28].reshape(4, 7)\n",
    "\n",
    "# Calculating the weekly averages\n",
    "weekly_averages = np.mean(weekly_temperatures, axis=1)\n",
    "print(\"\\nWeekly Averages:\")\n",
    "print(weekly_averages)\n"
   ]
  }
 ],
 "metadata": {
  "kernelspec": {
   "display_name": "Python 3",
   "language": "python",
   "name": "python3"
  },
  "language_info": {
   "codemirror_mode": {
    "name": "ipython",
    "version": 3
   },
   "file_extension": ".py",
   "mimetype": "text/x-python",
   "name": "python",
   "nbconvert_exporter": "python",
   "pygments_lexer": "ipython3",
   "version": "3.11.9"
  }
 },
 "nbformat": 4,
 "nbformat_minor": 2
}
